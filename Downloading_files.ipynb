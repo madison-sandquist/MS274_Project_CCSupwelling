{
 "cells": [
  {
   "cell_type": "markdown",
   "id": "1733093d-eb3c-40ca-92f6-493c07214486",
   "metadata": {},
   "source": [
    "# Downloading Data from PODAAC\n",
    "This notebook provides the functionality to download a set of files from JPL's Physical Oceanography DAAC. Info detailing how these scripts work can be found on the github page here: https://github.com/podaac/data-subscriber/tree/main"
   ]
  },
  {
   "cell_type": "code",
   "execution_count": null,
   "id": "709c9153-ab34-4ddc-9b8a-205f7206786c",
   "metadata": {},
   "outputs": [],
   "source": [
    "# import the numpy, matplotlib.pyplot and netCDF4 modules\n",
    "import requests\n",
    "import os\n",
    "from subscriber import podaac_data_downloader as pdd\n",
    "from subscriber import podaac_access as pa\n",
    "import argparse"
   ]
  },
  {
   "cell_type": "code",
   "execution_count": null,
   "id": "e4c7a26c-69c5-42cd-aee1-fa1f9473dece",
   "metadata": {},
   "outputs": [],
   "source": [
    "# Sets a path where my data lives (on external harddrive) each parameter has own folder\n",
    "data_path_SST = \"D:\\\\Remote sensing\\\\Project\\\\SST\"\n",
    "data_path_wind = \"D:\\\\Remote sensing\\\\Project\\\\wind\""
   ]
  },
  {
   "cell_type": "markdown",
   "id": "fcb0159b-bbeb-49a7-b4b2-bf222ea08c1d",
   "metadata": {},
   "source": [
    "Downloads SST temperature"
   ]
  },
  {
   "cell_type": "code",
   "execution_count": null,
   "id": "766768bd-42ea-4ea0-8e40-7cf203352fe5",
   "metadata": {},
   "outputs": [],
   "source": [
    "# define a collection e.g.:\n",
    "short_name = 'MUR25-JPL-L4-GLOB-v04.2'\n",
    "# define a start time\n",
    "start_date_time = '2000-01-01T00:00:00Z'\n",
    "end_date_time = '2023-12-31T00:00:00Z'\n",
    "# create a parser object from the \n",
    "parser = pdd.create_parser()\n",
    "args = parser.parse_args(['-c',short_name, '-d',data_path_SST,\n",
    "                          '-sd',start_date_time, '-ed',end_date_time])\n",
    "# run the downloading script\n",
    "pdd.run(args)"
   ]
  },
  {
   "cell_type": "markdown",
   "id": "368e6a77-2462-4dd7-9125-19ed0e639604",
   "metadata": {},
   "source": [
    "Downloads ealier wind data"
   ]
  },
  {
   "cell_type": "code",
   "execution_count": null,
   "id": "f6d6e638-2bff-4acc-87f1-d71ad13895d7",
   "metadata": {},
   "outputs": [],
   "source": [
    "# define a collection e.g.:\n",
    "short_name = 'WindSat-REMSS-L3U-v7.0.1a'\n",
    "start_date_time = '2005-01-01T00:00:00Z'\n",
    "end_date_time = '2014-12-31T00:00:00Z'\n",
    "# create a parser object from the \n",
    "parser = pdd.create_parser()\n",
    "args = parser.parse_args(['-c',short_name, '-d',data_path_wind,\n",
    "                          '-sd',start_date_time, '-ed',end_date_time])\n",
    "# run the downloading script\n",
    "pdd.run(args)"
   ]
  },
  {
   "cell_type": "markdown",
   "id": "a31ce2ee-0515-452a-84a5-7bc02a028519",
   "metadata": {},
   "source": [
    "Downloads later wind data"
   ]
  },
  {
   "cell_type": "code",
   "execution_count": null,
   "id": "d8b586e0-6ec6-49ed-bc86-1c5a41295eb1",
   "metadata": {},
   "outputs": [],
   "source": [
    "# define a collection e.g.:\n",
    "short_name = 'SMAP_JPL_L3_SSS_CAP_MONTHLY_V5'\n",
    "start_date_time = '2015-01-01T00:00:00Z'\n",
    "end_date_time = '2023-12-31T00:00:00Z'\n",
    "# create a parser object from the \n",
    "parser = pdd.create_parser()\n",
    "args = parser.parse_args(['-c',short_name, '-d',data_path_wind,\n",
    "                          '-sd',start_date_time, '-ed',end_date_time])\n",
    "# run the downloading script\n",
    "pdd.run(args)"
   ]
  }
 ],
 "metadata": {
  "kernelspec": {
   "display_name": "ms274",
   "language": "python",
   "name": "ms274"
  },
  "language_info": {
   "codemirror_mode": {
    "name": "ipython",
    "version": 3
   },
   "file_extension": ".py",
   "mimetype": "text/x-python",
   "name": "python",
   "nbconvert_exporter": "python",
   "pygments_lexer": "ipython3",
   "version": "3.11.9"
  }
 },
 "nbformat": 4,
 "nbformat_minor": 5
}
