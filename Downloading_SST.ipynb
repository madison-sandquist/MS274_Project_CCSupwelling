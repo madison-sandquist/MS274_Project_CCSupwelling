{
 "cells": [
  {
   "cell_type": "markdown",
   "id": "1733093d-eb3c-40ca-92f6-493c07214486",
   "metadata": {},
   "source": [
    "# Downloading Data from PODAAC\n",
    "This notebook provides the functionality to download a set of files from JPL's Physical Oceanography DAAC. Info detailing how these scripts work can be found on the github page here: https://github.com/podaac/data-subscriber/tree/main"
   ]
  },
  {
   "cell_type": "code",
   "execution_count": null,
   "id": "709c9153-ab34-4ddc-9b8a-205f7206786c",
   "metadata": {},
   "outputs": [],
   "source": [
    "# import the numpy, matplotlib.pyplot and netCDF4 modules\n",
    "import requests\n",
    "import os\n",
    "from subscriber import podaac_data_downloader as pdd\n",
    "from subscriber import podaac_access as pa\n",
    "import argparse"
   ]
  },
  {
   "cell_type": "code",
   "execution_count": null,
   "id": "e4c7a26c-69c5-42cd-aee1-fa1f9473dece",
   "metadata": {},
   "outputs": [],
   "source": [
    "# Sets a path where my data lives (on external harddrive) each parameter has own folder\n",
    "data_path_SST = \"D:\\\\Remote sensing\\\\Project\\\\SST\""
   ]
  },
  {
   "cell_type": "markdown",
   "id": "fcb0159b-bbeb-49a7-b4b2-bf222ea08c1d",
   "metadata": {},
   "source": [
    "Downloads SST temperature"
   ]
  },
  {
   "cell_type": "code",
   "execution_count": null,
   "id": "766768bd-42ea-4ea0-8e40-7cf203352fe5",
   "metadata": {},
   "outputs": [],
   "source": [
    "# define a collection e.g.:\n",
    "short_name = 'MUR25-JPL-L4-GLOB-v04.2'\n",
    "# define a start time\n",
    "start_date_time = '2000-01-01T00:00:00Z'\n",
    "end_date_time = '2023-12-31T00:00:00Z'\n",
    "# create a parser object from the \n",
    "parser = pdd.create_parser()\n",
    "args = parser.parse_args(['-c',short_name, '-d',data_path_SST,\n",
    "                          '-sd',start_date_time, '-ed',end_date_time])\n",
    "# run the downloading script\n",
    "pdd.run(args)"
   ]
  }
 ],
 "metadata": {
  "kernelspec": {
   "display_name": "ms274",
   "language": "python",
   "name": "ms274"
  },
  "language_info": {
   "codemirror_mode": {
    "name": "ipython",
    "version": 3
   },
   "file_extension": ".py",
   "mimetype": "text/x-python",
   "name": "python",
   "nbconvert_exporter": "python",
   "pygments_lexer": "ipython3",
   "version": "3.11.9"
  }
 },
 "nbformat": 4,
 "nbformat_minor": 5
}
